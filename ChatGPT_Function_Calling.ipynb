{
  "nbformat": 4,
  "nbformat_minor": 0,
  "metadata": {
    "colab": {
      "provenance": [],
      "authorship_tag": "ABX9TyP4EBKQTad7FDZNyDi5FLD5",
      "include_colab_link": true
    },
    "kernelspec": {
      "name": "python3",
      "display_name": "Python 3"
    },
    "language_info": {
      "name": "python"
    }
  },
  "cells": [
    {
      "cell_type": "markdown",
      "metadata": {
        "id": "view-in-github",
        "colab_type": "text"
      },
      "source": [
        "<a href=\"https://colab.research.google.com/github/ChiliJoe/genai-intro/blob/main/ChatGPT_Function_Calling.ipynb\" target=\"_parent\"><img src=\"https://colab.research.google.com/assets/colab-badge.svg\" alt=\"Open In Colab\"/></a>"
      ]
    },
    {
      "cell_type": "markdown",
      "source": [
        "This is an expansion of tutorial from https://youtu.be/0-zlUy7VUjg using real-world API from openweathermap.org."
      ],
      "metadata": {
        "id": "mXZhFsq7CBDw"
      }
    },
    {
      "cell_type": "markdown",
      "source": [
        "Let's use the openweathermap current weather API that requires geo code as input."
      ],
      "metadata": {
        "id": "46fME7SwDIzz"
      }
    },
    {
      "cell_type": "code",
      "source": [
        "%%capture\n",
        "# Set openweathermap.org API key\n",
        "%env OWM_API_KEY=\n",
        "\n",
        "# Set OpenAI API key\n",
        "%env OPENAI_API_KEY="
      ],
      "metadata": {
        "id": "20MG98UBGEKq"
      },
      "execution_count": 1,
      "outputs": []
    },
    {
      "cell_type": "code",
      "source": [
        "%%capture\n",
        "!rm -rf helper\n",
        "!git clone https://github.com/ChiliJoe/genai-intro.git helper\n",
        "\n",
        "from helper.weather import function_list"
      ],
      "metadata": {
        "id": "-RlazoYXDYKj"
      },
      "execution_count": 2,
      "outputs": []
    },
    {
      "cell_type": "markdown",
      "source": [
        "# Vanilla OpenAI"
      ],
      "metadata": {
        "id": "mKQ_MPDdbkCk"
      }
    },
    {
      "cell_type": "code",
      "execution_count": 3,
      "metadata": {
        "id": "_g28uDmRB1Fi"
      },
      "outputs": [],
      "source": [
        "%%capture\n",
        "!pip install openai"
      ]
    },
    {
      "cell_type": "code",
      "source": [
        "from IPython.display import display, Markdown\n",
        "from helper.demolib import Color\n",
        "\n",
        "import openai\n",
        "import os\n",
        "import json\n",
        "\n",
        "openai.api_key  = os.getenv('OPENAI_API_KEY')\n",
        "\n",
        "class Chat:\n",
        "  def __init__(self, system_message, function_list):\n",
        "    self.messages = [{\"role\": \"system\", \"content\": system_message}]\n",
        "    self.function_list = function_list\n",
        "    self.function_descriptions = [f[\"description\"] for f in function_list.values()]\n",
        "\n",
        "  def ask(self, role_content, role=\"user\", function_name=None):\n",
        "    if role == \"function\":\n",
        "      self.messages.append({\"role\": role, \"name\": function_name, \"content\": role_content})\n",
        "    else:\n",
        "      self.messages.append({\"role\": role, \"content\": role_content})\n",
        "\n",
        "    res = openai.ChatCompletion.create(\n",
        "        model=\"gpt-3.5-turbo\",\n",
        "        messages=self.messages,\n",
        "        functions=self.function_descriptions,\n",
        "        function_call=\"auto\"\n",
        "    )\n",
        "    ai_message = res.choices[0].message\n",
        "    self.messages.append(ai_message)\n",
        "\n",
        "    # process function call\n",
        "    if ai_message[\"content\"] is None and ai_message[\"function_call\"]:\n",
        "      target_function_name = ai_message[\"function_call\"][\"name\"]\n",
        "      target_function = self.function_list[target_function_name][\"function\"]\n",
        "      func_params = json.loads(ai_message['function_call']['arguments'])\n",
        "\n",
        "      print(Color.cyan(f\"Invoking {target_function_name} with parameters {func_params}\"))\n",
        "      function_response = target_function(**func_params)\n",
        "      print(Color.white(\"Function response: \"), end=\"\")\n",
        "      print(Color.magenta(f\"{function_response}\"))\n",
        "\n",
        "      self.ask(role_content=json.dumps(function_response),\n",
        "               role=\"function\",\n",
        "               function_name=target_function_name\n",
        "               )\n",
        "\n",
        "    elif ai_message[\"content\"]:\n",
        "      print(Color.green(\"===== Final response: =====\"))\n",
        "      display(Markdown(ai_message[\"content\"]))"
      ],
      "metadata": {
        "id": "PYLT4cjKJe3z"
      },
      "execution_count": 9,
      "outputs": []
    },
    {
      "cell_type": "code",
      "source": [
        "sysmessage=\"\"\"\n",
        "You are a helpful AI chatbot that responds to user in the style of The Terminator.\n",
        "\"\"\"\n",
        "chat = Chat(sysmessage, function_list)"
      ],
      "metadata": {
        "id": "hd5XWK0MnLf3"
      },
      "execution_count": 10,
      "outputs": []
    },
    {
      "cell_type": "code",
      "source": [
        "chat.ask(\"What's the weather like in the city where Barack Obama was born?\")"
      ],
      "metadata": {
        "colab": {
          "base_uri": "https://localhost:8080/",
          "height": 237
        },
        "id": "asZoLcXGnYwe",
        "outputId": "478ca4f1-df42-4f35-ebc2-1b77fbe2bcb2"
      },
      "execution_count": 11,
      "outputs": [
        {
          "output_type": "stream",
          "name": "stdout",
          "text": [
            "\u001b[96mInvoking get_location_data with parameters {'city': 'Honolulu', 'country': 'US'}\u001b[0m\n",
            "\u001b[97mFunction response: \u001b[0m\u001b[95m[{'name': 'Honolulu', 'local_names': {'mi': 'Honoruru', 'ru': 'Гонолулу', 'de': 'Honolulu', 'lt': 'Honolulu', 'pl': 'Honolulu', 'ko': '호놀룰루', 'fa': 'هونولولو', 'ta': 'ஹொனலுலு', 'es': 'Honolulu', 'ur': 'ہونولولو', 'ks': 'ہونولولو', 'zh': '檀香山 / 火奴鲁鲁', 'ar': 'هونولولو', 'en': 'Honolulu', 'ja': 'ホノルル', 'el': 'Χονολουλού', 'uk': 'Гонолулу'}, 'lat': 21.304547, 'lon': -157.855676, 'country': 'US', 'state': 'Hawaii'}]\u001b[0m\n",
            "\u001b[96mInvoking get_current_weather with parameters {'lat': 21.304547, 'lon': -157.855676, 'unit': 'metric'}\u001b[0m\n",
            "\u001b[97mFunction response: \u001b[0m\u001b[95m{'coord': {'lon': -157.8557, 'lat': 21.3045}, 'weather': [{'id': 803, 'main': 'Clouds', 'description': 'broken clouds', 'icon': '04d'}], 'base': 'stations', 'main': {'temp': 23.97, 'feels_like': 24.62, 'temp_min': 21.63, 'temp_max': 26.1, 'pressure': 1017, 'humidity': 84}, 'visibility': 10000, 'wind': {'speed': 2.06, 'deg': 350}, 'clouds': {'all': 75}, 'dt': 1688319584, 'sys': {'type': 2, 'id': 2010198, 'country': 'US', 'sunrise': 1688313193, 'sunset': 1688361445}, 'timezone': -36000, 'id': 5856195, 'name': 'Honolulu', 'cod': 200}\u001b[0m\n",
            "\u001b[92m===== Final response: =====\u001b[0m\n"
          ]
        },
        {
          "output_type": "display_data",
          "data": {
            "text/plain": [
              "<IPython.core.display.Markdown object>"
            ],
            "text/markdown": "In Honolulu, the city where Barack Obama was born, the current weather is as follows:\n\n- Temperature: 23.97°C\n- Description: Broken clouds\n- Wind speed: 2.06 m/s\n\nPlease note that the weather conditions may change, so it's always a good idea to check for updates."
          },
          "metadata": {}
        }
      ]
    }
  ]
}