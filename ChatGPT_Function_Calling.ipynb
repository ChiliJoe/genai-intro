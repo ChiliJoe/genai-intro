{
  "nbformat": 4,
  "nbformat_minor": 0,
  "metadata": {
    "colab": {
      "provenance": [],
      "authorship_tag": "ABX9TyNDZUjo9iMQ/ewN1Qq1DcLg",
      "include_colab_link": true
    },
    "kernelspec": {
      "name": "python3",
      "display_name": "Python 3"
    },
    "language_info": {
      "name": "python"
    }
  },
  "cells": [
    {
      "cell_type": "markdown",
      "metadata": {
        "id": "view-in-github",
        "colab_type": "text"
      },
      "source": [
        "<a href=\"https://colab.research.google.com/github/ChiliJoe/genai-intro/blob/main/ChatGPT_Function_Calling.ipynb\" target=\"_parent\"><img src=\"https://colab.research.google.com/assets/colab-badge.svg\" alt=\"Open In Colab\"/></a>"
      ]
    },
    {
      "cell_type": "markdown",
      "source": [
        "This is an expansion of tutorial from https://youtu.be/0-zlUy7VUjg using real-world API from openweathermap.org."
      ],
      "metadata": {
        "id": "mXZhFsq7CBDw"
      }
    },
    {
      "cell_type": "markdown",
      "source": [
        "Let's use the openweathermap current weather API that requires geo code as input."
      ],
      "metadata": {
        "id": "46fME7SwDIzz"
      }
    },
    {
      "cell_type": "code",
      "source": [
        "%%capture\n",
        "# Set openweathermap.org API key\n",
        "%env OWM_API_KEY=\n",
        "\n",
        "# Set OpenAI API key\n",
        "%env OPENAI_API_KEY="
      ],
      "metadata": {
        "id": "20MG98UBGEKq"
      },
      "execution_count": 12,
      "outputs": []
    },
    {
      "cell_type": "code",
      "source": [
        "%%capture\n",
        "!rm -rf helper\n",
        "!git clone https://github.com/ChiliJoe/genai-intro.git helper\n",
        "\n",
        "from helper.weather import function_list"
      ],
      "metadata": {
        "id": "-RlazoYXDYKj"
      },
      "execution_count": 13,
      "outputs": []
    },
    {
      "cell_type": "markdown",
      "source": [
        "# Vanilla OpenAI"
      ],
      "metadata": {
        "id": "mKQ_MPDdbkCk"
      }
    },
    {
      "cell_type": "code",
      "execution_count": 14,
      "metadata": {
        "id": "_g28uDmRB1Fi"
      },
      "outputs": [],
      "source": [
        "%%capture\n",
        "!pip install openai"
      ]
    },
    {
      "cell_type": "code",
      "source": [
        "from IPython.display import display, Markdown\n",
        "from helper.demolib import Color\n",
        "\n",
        "import openai\n",
        "import os\n",
        "import json\n",
        "\n",
        "openai.api_key  = os.getenv('OPENAI_API_KEY')\n",
        "\n",
        "class Chat:\n",
        "  def __init__(self, system_message, function_list):\n",
        "    self.messages = [{\"role\": \"system\", \"content\": system_message}]\n",
        "    self.function_list = function_list\n",
        "    self.function_descriptions = [f[\"description\"] for f in function_list.values()]\n",
        "\n",
        "  def ask(self, role_content, role=\"user\", function_name=None):\n",
        "    if role == \"function\":\n",
        "      self.messages.append({\"role\": role, \"name\": function_name, \"content\": role_content})\n",
        "    else:\n",
        "      self.messages.append({\"role\": role, \"content\": role_content})\n",
        "\n",
        "    res = openai.ChatCompletion.create(\n",
        "        model=\"gpt-3.5-turbo\",\n",
        "        messages=self.messages,\n",
        "        functions=self.function_descriptions,\n",
        "        function_call=\"auto\"\n",
        "    )\n",
        "    ai_message = res.choices[0].message\n",
        "    self.messages.append(ai_message)\n",
        "\n",
        "    # process function call\n",
        "    if ai_message[\"content\"] is None and ai_message[\"function_call\"]:\n",
        "      target_function_name = ai_message[\"function_call\"][\"name\"]\n",
        "      target_function = self.function_list[target_function_name][\"function\"]\n",
        "      func_params = json.loads(ai_message['function_call']['arguments'])\n",
        "\n",
        "      print(Color.cyan(f\"Invoking {target_function_name} with parameters {func_params}\"))\n",
        "      function_response = target_function(**func_params)\n",
        "      print(Color.white(\"Function response: \"), end=\"\")\n",
        "      print(Color.magenta(f\"{function_response}\"))\n",
        "\n",
        "      self.ask(role_content=json.dumps(function_response),\n",
        "               role=\"function\",\n",
        "               function_name=target_function_name\n",
        "               )\n",
        "\n",
        "    elif ai_message[\"content\"]:\n",
        "      print(Color.green(\"===== Final response: =====\"))\n",
        "      display(Markdown(ai_message[\"content\"]))"
      ],
      "metadata": {
        "id": "PYLT4cjKJe3z"
      },
      "execution_count": 15,
      "outputs": []
    },
    {
      "cell_type": "code",
      "source": [
        "sysmessage=\"\"\"\n",
        "You are a helpful AI chatbot.\n",
        "\"\"\"\n",
        "chat = Chat(sysmessage, function_list)"
      ],
      "metadata": {
        "id": "hd5XWK0MnLf3"
      },
      "execution_count": 16,
      "outputs": []
    },
    {
      "cell_type": "code",
      "source": [
        "chat.ask(\"What's the weather like in the White House?\")"
      ],
      "metadata": {
        "colab": {
          "base_uri": "https://localhost:8080/",
          "height": 191
        },
        "id": "asZoLcXGnYwe",
        "outputId": "1880f22f-03b1-4ca6-83f1-f9d5d85bec59"
      },
      "execution_count": 17,
      "outputs": [
        {
          "output_type": "stream",
          "name": "stdout",
          "text": [
            "\u001b[96mInvoking get_location_data with parameters {'city': 'Washington', 'country': 'US'}\u001b[0m\n",
            "\u001b[97mFunction response: \u001b[0m\u001b[95m[{'name': 'Washington', 'local_names': {'ml': 'വാഷിങ്ടൺ, ഡി.സി.', 'ba': 'Вашингтон', 'ru': 'Вашингтон', 'gl': 'Washington, D.C.', 'ms': 'Washington, D.C.', 'de': 'Washington', 'ur': 'واشنگٹن', 'te': 'వాషింగ్టన్, డి.సి.', 'lb': 'Washington D.C.', 'mi': 'Wahingitana', 'qu': 'Washington DC', 'lt': 'Vašingtonas', 'el': 'Ουάσιγκτων', 'cs': 'Washington, D.C.', 'sl': 'Washington, D.C.', 'bg': 'Вашингтон', 'ks': 'واشنگٹن', 'ts': 'Washington, DC', 'ja': 'ワシントン', 'sq': 'Uashington D.C.', 'bs': 'Washington, D.C.', 'ar': 'واشينطون', 'kw': 'Washington, D.C.', 'ko': '워싱턴', 'yo': 'Washington, D.C.', 'gv': 'Washington, D.C.', 'kk': 'Вашингтон', 'sn': 'Washington, DC', 'pi': 'वासिंगटन डि सि', 'xh': 'Washington, D.C.', 'si': 'වොෂින්ටන්, ඩී.සී.', 'ca': 'Washington DC', 'uk': 'Вашингтон', 'ln': 'Washington', 'ku': 'Washington', 'eu': 'Washington', 'ro': 'Washington, D.C.', 'et': 'Washington', 'fy': 'Washington, D.C.', 'kn': 'ವಾಷಿಂಗ್\\u200cಟನ್', 'be': 'Вашынгтон', 'lv': 'Vašingtona', 'fi': 'Washington (DC)', 'ky': 'Вашингтон', 'ps': 'واشنګټن', 'an': 'Washington, DC', 'os': 'Вашингтон', 'he': 'וושינגטון', 'ta': 'வாஷிங்டன்', 'vi': 'Hoa Thịnh Đốn', 'is': 'Washington', 'ug': 'ۋاشىنگتون', 'ga': 'Washington, D.C.', 'id': 'Washington, D.C.', 'da': 'Washington D.C.', 'li': 'Washington D.C.', 'jv': 'Washington, D.C.', 'mg': 'Washington D.C.', 'eo': 'Vaŝingtono', 'uz': 'Vashington', 'se': 'Washington D.C.', 'sh': 'Washington, D.C.', 'ie': 'Washington, D.C.', 'ny': 'Washington, D.C.', 'gd': 'Washington, D.C.', 'so': 'Washington D.C', 'oc': 'Washington, DC', 'gr': 'Οὐασιντώνη', 'hr': 'Washington', 'vo': 'Washington', 'ia': 'Washington, D.C.', 'dv': 'ވޮޝިންގޓަން، ޑީ.ސީ.', 'zu': 'Washington, D.C.', 'pa': 'ਵਾਸ਼ਿੰਗਟਨ, ਡੀ.ਸੀ.', 'no': 'Washington, D.C.', 'ht': 'Wachintòn', 'hu': 'Washington', 'sm': 'Uasigitone D.C.', 'fr': 'Washington', 'mr': 'वॉशिंग्टन, डी.सी.', 'la': 'Vasingtonia (D.C.)', 'fa': 'واشنگتن', 'ce': 'Вашингтон', 'bm': 'Washington, D.C.', 'tl': 'Washington, D.C.', 'tt': 'Вашингтон', 'mn': 'Вашингтон хот', 'sd': 'واشنگٽن ڊي سي', 'co': 'Washington DC', 'tg': 'Вашингтон (шаҳр)', 'gn': 'Washington D. C.', 'mk': 'Вашингтон', 'feature_name': 'Washington', 'th': 'วอชิงตัน', 'nv': 'Wááshindoon', 'bh': 'वाशिंगटन, डीसी', 'hi': 'वॉशिंगटन, डी॰ सी॰', 'sw': 'Washington, D.C.', 'ig': 'Washington, D.C.', 'as': 'ৱাশ্বিংটন ডি.চি.', 'az': 'Vaşinqton şəhəri', 'am': 'ዋሺንግተን ዲሲ', 'sk': 'Washington D.C.', 'tn': 'Washington, D.C.', 'ne': 'वासिङ्टन, डी.सी.', 'my': 'ဝါရှင်တန်ဒီစီ', 'sr': 'Вашингтон', 'tr': 'Vaşington', 'ty': 'Washington', 'bn': 'ওয়াশিংটন, ডি.সি.', 'rm': 'Washington, D.C.', 'br': 'Washington D.C.', 'ha': 'Washington, D.C.', 'ee': 'Washington D.C.', 'cv': 'Вашингтон', 'fo': 'Washington DC', 'en': 'Washington', 'tk': 'Waşington', 'ascii': 'Washington', 'st': 'Washington, D.C.', 'es': 'Washington', 'nl': 'Washington D.C.', 'av': 'Вашингтон', 'pt': 'Washington, D.C.', 'af': 'Washington, D.C.', 'tw': 'Wɔhyeten', 'zh': '华盛顿 / 蓽盛頓', 'it': 'Washington', 'sv': 'Washington D.C.', 'ay': 'Washington, DC', 'bo': 'ཝ་ཤིན་ཏྲོན།', 'sc': 'Washington', 'za': 'Washington, D.C.', 'nn': 'Washington, D.C.', 'io': 'Washington D.C.', 'sg': 'Washington D.C.', 'yi': 'וואשינגטאן די סי', 'sa': 'वाशिङ्ग्टन् डि सि', 'pl': 'Waszyngton', 'hy': 'Վաշինգտոն', 'ka': 'ვაშინგტონი', 'cy': 'Washington, D.C.'}, 'lat': 38.8950368, 'lon': -77.0365427, 'country': 'US', 'state': 'District of Columbia'}]\u001b[0m\n",
            "\u001b[96mInvoking get_current_weather with parameters {'lat': 38.8950368, 'lon': -77.0365427, 'unit': 'metric'}\u001b[0m\n",
            "\u001b[97mFunction response: \u001b[0m\u001b[95m{'coord': {'lon': -77.0365, 'lat': 38.895}, 'weather': [{'id': 804, 'main': 'Clouds', 'description': 'overcast clouds', 'icon': '04d'}], 'base': 'stations', 'main': {'temp': 30.01, 'feels_like': 35.31, 'temp_min': 27.81, 'temp_max': 32.29, 'pressure': 1010, 'humidity': 71}, 'visibility': 10000, 'wind': {'speed': 5.66, 'deg': 170}, 'clouds': {'all': 100}, 'dt': 1688319658, 'sys': {'type': 2, 'id': 2002287, 'country': 'US', 'sunrise': 1688291205, 'sunset': 1688344634}, 'timezone': -14400, 'id': 4140963, 'name': 'Washington D.C.', 'cod': 200}\u001b[0m\n",
            "\u001b[92m===== Final response: =====\u001b[0m\n"
          ]
        },
        {
          "output_type": "display_data",
          "data": {
            "text/plain": [
              "<IPython.core.display.Markdown object>"
            ],
            "text/markdown": "The weather in Washington D.C., near the White House, is currently overcast with a temperature of 30.01 degrees Celsius. It feels like 35.31 degrees Celsius. The minimum temperature is 27.81 degrees Celsius, and the maximum temperature is 32.29 degrees Celsius. The humidity level is 71%, and there is a wind speed of 5.66 m/s coming from the southeast."
          },
          "metadata": {}
        }
      ]
    }
  ]
}