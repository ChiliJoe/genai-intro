{
  "nbformat": 4,
  "nbformat_minor": 0,
  "metadata": {
    "colab": {
      "provenance": [],
      "authorship_tag": "ABX9TyPhbyUfNb6ZxqNjNcGdEUdP",
      "include_colab_link": true
    },
    "kernelspec": {
      "name": "python3",
      "display_name": "Python 3"
    },
    "language_info": {
      "name": "python"
    }
  },
  "cells": [
    {
      "cell_type": "markdown",
      "metadata": {
        "id": "view-in-github",
        "colab_type": "text"
      },
      "source": [
        "<a href=\"https://colab.research.google.com/github/ChiliJoe/genai-intro/blob/main/ChatGPT_Function_Calling.ipynb\" target=\"_parent\"><img src=\"https://colab.research.google.com/assets/colab-badge.svg\" alt=\"Open In Colab\"/></a>"
      ]
    },
    {
      "cell_type": "markdown",
      "source": [
        "This is an expansion of tutorial from https://youtu.be/0-zlUy7VUjg using real-world API from openweathermap.org."
      ],
      "metadata": {
        "id": "mXZhFsq7CBDw"
      }
    },
    {
      "cell_type": "markdown",
      "source": [
        "Let's use the openweathermap current weather API that requires geo code as input."
      ],
      "metadata": {
        "id": "46fME7SwDIzz"
      }
    },
    {
      "cell_type": "code",
      "execution_count": 1,
      "metadata": {
        "id": "_g28uDmRB1Fi"
      },
      "outputs": [],
      "source": [
        "%%capture\n",
        "!pip install openai google-search-results"
      ]
    },
    {
      "cell_type": "code",
      "source": [
        "%%capture\n",
        "# Set serpapi API key\n",
        "%env SERPAPI_API_KEY=\n",
        "\n",
        "# Set openweathermap.org API key\n",
        "%env OWM_API_KEY=\n",
        "\n",
        "# Set OpenAI API key\n",
        "%env OPENAI_API_KEY="
      ],
      "metadata": {
        "id": "20MG98UBGEKq"
      },
      "execution_count": 2,
      "outputs": []
    },
    {
      "cell_type": "code",
      "source": [
        "%%capture\n",
        "!rm -rf helper\n",
        "!git clone https://github.com/ChiliJoe/genai-intro.git helper"
      ],
      "metadata": {
        "id": "-RlazoYXDYKj"
      },
      "execution_count": 3,
      "outputs": []
    },
    {
      "cell_type": "code",
      "source": [
        "from helper.function_calling_demo import function_list"
      ],
      "metadata": {
        "id": "LWTmzW3d9wlU"
      },
      "execution_count": 4,
      "outputs": []
    },
    {
      "cell_type": "code",
      "source": [
        "function_list"
      ],
      "metadata": {
        "id": "2KnkkheV8fWc",
        "outputId": "7805fac9-859b-4493-a4a0-fe4e2c483b26",
        "colab": {
          "base_uri": "https://localhost:8080/"
        }
      },
      "execution_count": 5,
      "outputs": [
        {
          "output_type": "execute_result",
          "data": {
            "text/plain": [
              "{'do_search': {'function': <function helper.function_calling_demo.do_search(search_term)>,\n",
              "  'description': {'name': 'do_search',\n",
              "   'description': 'Search google for current information',\n",
              "   'parameters': {'type': 'object',\n",
              "    'properties': {'search_term': {'type': 'string',\n",
              "      'description': 'The term to search for in the web'}},\n",
              "    'required': ['search_term']}}},\n",
              " 'get_current_weather': {'function': <function helper.function_calling_demo.get_current_weather(lat, lon, unit)>,\n",
              "  'description': {'name': 'get_current_weather',\n",
              "   'description': 'Get the current weather in a given geo code',\n",
              "   'parameters': {'type': 'object',\n",
              "    'properties': {'lat': {'type': 'number', 'description': 'latitude'},\n",
              "     'lon': {'type': 'number', 'description': 'latitude'},\n",
              "     'unit': {'type': 'string',\n",
              "      'description': 'The temperature unit to use. Infer this from the location.',\n",
              "      'enum': ['standard', 'metric', 'imperial']}},\n",
              "    'required': ['lat', 'lon', 'unit']}}},\n",
              " 'get_location_data': {'function': <function helper.function_calling_demo.get_location_data(city, country, state=None)>,\n",
              "  'description': {'name': 'get_location_data',\n",
              "   'description': 'Get the geographic data by location name',\n",
              "   'parameters': {'type': 'object',\n",
              "    'properties': {'city': {'type': 'string',\n",
              "      'description': 'name of the city'},\n",
              "     'state': {'type': 'string',\n",
              "      'description': 'name of the state - only for the US'},\n",
              "     'country': {'type': 'string', 'description': 'ISO 3166 country code'}},\n",
              "    'required': ['city', 'country']}}}}"
            ]
          },
          "metadata": {},
          "execution_count": 5
        }
      ]
    },
    {
      "cell_type": "markdown",
      "source": [
        "# Vanilla OpenAI"
      ],
      "metadata": {
        "id": "mKQ_MPDdbkCk"
      }
    },
    {
      "cell_type": "code",
      "source": [
        "from IPython.display import display, Markdown\n",
        "from helper.demolib import Color\n",
        "\n",
        "import openai\n",
        "import os\n",
        "import json\n",
        "\n",
        "openai.api_key  = os.getenv('OPENAI_API_KEY')\n",
        "\n",
        "class Chat:\n",
        "  def __init__(self, system_message, function_list):\n",
        "    self.messages = [{\"role\": \"system\", \"content\": system_message}]\n",
        "    self.function_list = function_list\n",
        "    self.function_descriptions = [f[\"description\"] for f in function_list.values()]\n",
        "\n",
        "  def ask(self, role_content, role=\"user\", function_name=None):\n",
        "    if role == \"function\":\n",
        "      self.messages.append({\"role\": role, \"name\": function_name, \"content\": role_content})\n",
        "    else:\n",
        "      self.messages.append({\"role\": role, \"content\": role_content})\n",
        "\n",
        "    res = openai.ChatCompletion.create(\n",
        "        model=\"gpt-4\",\n",
        "        messages=self.messages,\n",
        "        functions=self.function_descriptions,\n",
        "        function_call=\"auto\"\n",
        "    )\n",
        "    ai_message = res.choices[0].message\n",
        "    self.messages.append(ai_message)\n",
        "    # print(ai_message)\n",
        "\n",
        "    # process function call\n",
        "    if ai_message[\"content\"] is None and ai_message[\"function_call\"]:\n",
        "      target_function_name = ai_message[\"function_call\"][\"name\"]\n",
        "      target_function = self.function_list[target_function_name][\"function\"]\n",
        "      func_params = json.loads(ai_message['function_call']['arguments'])\n",
        "\n",
        "      print(Color.cyan(f\"Invoking {target_function_name} with parameters {func_params}\"))\n",
        "      function_response = target_function(**func_params)\n",
        "      print(Color.white(\"Function response: \"), end=\"\")\n",
        "      print(Color.magenta(f\"{function_response}\"))\n",
        "\n",
        "      self.ask(role_content=json.dumps(function_response),\n",
        "               role=\"function\",\n",
        "               function_name=target_function_name\n",
        "               )\n",
        "\n",
        "    elif ai_message[\"content\"]:\n",
        "      print(Color.green(\"===== Final response: =====\"))\n",
        "      display(Markdown(ai_message[\"content\"]))"
      ],
      "metadata": {
        "id": "PYLT4cjKJe3z"
      },
      "execution_count": 6,
      "outputs": []
    },
    {
      "cell_type": "code",
      "source": [
        "sysmessage=\"\"\"\n",
        "You are a helpful AI chatbot that responds in conversational manner. Search the web for information that may need to be kept up-to-date.\n",
        "\"\"\"\n",
        "chat = Chat(sysmessage, function_list)"
      ],
      "metadata": {
        "id": "hd5XWK0MnLf3"
      },
      "execution_count": 7,
      "outputs": []
    },
    {
      "cell_type": "code",
      "source": [
        "chat.ask(\"Who was the president of the Philippines in 2022? Where was he born?\")"
      ],
      "metadata": {
        "colab": {
          "base_uri": "https://localhost:8080/",
          "height": 188
        },
        "id": "asZoLcXGnYwe",
        "outputId": "ced881ec-5582-440c-8190-9a8bfbb4519b"
      },
      "execution_count": 8,
      "outputs": [
        {
          "output_type": "stream",
          "name": "stdout",
          "text": [
            "\u001b[96mInvoking do_search with parameters {'search_term': 'President of the Philippines 2022'}\u001b[0m\n",
            "\u001b[97mFunction response: \u001b[0m\u001b[95m[{'position': 1, 'title': 'Presidency of Bongbong Marcos', 'snippet': 'The presidency of Bongbong Marcos began at noon on June 30, 2022, following his inauguration as the 17th president of the Philippines, succeeding Rodrigo ...', 'languages': 'English', 'regions': 'United States'}, {'position': 2, 'title': 'A Marcos returns to power in the Philippines', 'snippet': 'As Ferdinand Marcos Jr., son of the former dictator, is elected president in the Philippines, Mely Caballero-Anthony describes what the ...', 'languages': 'English', 'regions': 'United States'}, {'position': 3, 'title': 'Ferdinand Marcos Jr sworn in as Philippines president', 'snippet': 'Marcos Jr takes Philippines top job, 36 years after his father was toppled and forced into exile in a popular uprising.', 'languages': 'English', 'regions': 'United States'}, {'position': 4, 'title': 'Ferdinand Marcos Jr. is sworn in as the Philippines 17th ...', 'snippet': 'The namesake son of an ousted dictator took the presidential oath in Manila after one of the greatest political comebacks in recent history.', 'languages': 'English', 'regions': 'United States'}, {'position': 5, 'title': 'Ferdinand Marcos Jr sworn in as the new President of ...', 'snippet': 'Ferdinand Marcos Jr. takes an oath to serve as the 17th President of the Philippines on Thursday, 30th June 2022, after winning elections on ...', 'languages': 'English', 'regions': 'United States'}, {'position': 6, 'title': 'The Philippine President', 'snippet': 'President Ferdinand Romualdez Marcos Jr. was voted as the 17 th President of the Republic of the Philippines on 09 May 2022 and vows to be a leader for ...', 'languages': 'English', 'regions': 'United States'}, {'position': 7, 'title': 'Philippines Congress proclaims Marcos as next president', 'snippet': 'A joint session of Philippines Congress on Wednesday declared Ferdinand Marcos Jr, the son and namesake of the notorious late dictator, ...', 'languages': 'English', 'regions': 'United States'}, {'position': 8, 'title': 'Marcos Jr proclaimed next Philippine president with huge win', 'snippet': 'Ferdinand Marcos Jr. has been proclaimed the next president of the Philippines by a joint session of Congress following a landslide ...', 'languages': 'English', 'regions': 'United States'}]\u001b[0m\n",
            "\u001b[96mInvoking get_location_data with parameters {'city': 'Bongbong Marcos', 'country': 'Philippines'}\u001b[0m\n",
            "\u001b[97mFunction response: \u001b[0m\u001b[95m[]\u001b[0m\n",
            "\u001b[96mInvoking do_search with parameters {'search_term': 'Bongbong Marcos birthplace'}\u001b[0m\n",
            "\u001b[97mFunction response: \u001b[0m\u001b[95m[{'position': 1, 'title': 'Bongbong Marcos - Simple English Wikipedia, the free ...', 'snippet': '(born September 13, 1957) is a Filipino politician who is the President of the Philippines since 2022. He was a senator from 2010 to 2016. He is the second ...', 'languages': 'English', 'regions': 'United States'}, {'position': 2, 'title': 'About - President Bongbong Marcos', 'snippet': 'Marcos Jr., commonly referred to as Bongbong and by the initials BBM, was born on the 13th of September 1957 in the town of Batac, Ilocos Norte. He attended La ...', 'languages': 'English', 'regions': 'United States'}, {'position': 3, 'title': 'The President', 'snippet': 'President Ferdinand Romualdez Marcos Jr., commonly referred to as Bongbong and by the initials BBM, was born on the 13th of September 1957 in the town of ...', 'languages': 'English', 'regions': 'United States'}, {'position': 4, 'title': \"Ferdinand ('Bongbong') Marcos, Jr. | Biography, Father, ...\", 'snippet': 'Marcos was born on September 11, 1917, in Sarrat, Philippines. · After his regime was toppled by a popular uprising in 1986, Marcos died in exile in Honolulu, ...', 'languages': 'English', 'regions': 'United States'}, {'position': 5, 'title': 'Ferdinand Romualdez Marcos Jr.', 'snippet': 'Ferdinand Romualdez Marcos Jr., commonly referred to as Bongbong and by the initials BBM, was born on the 13th of September 1957 in the town of Batac, ...', 'languages': 'English', 'regions': 'United States'}, {'position': 6, 'title': 'Resume of Senator Ferdinand \"Bongbong\" R. Marcos, Jr.', 'snippet': 'Date of Birth : 13 September 1957. Place of Birth : Manila, Philippines. Addresses : 10 Barangay Lacub, Batac 2906 Ilocos Norte.', 'languages': 'English', 'regions': 'United States'}, {'position': 7, 'title': 'Bongbong Marcos | Wikitubia - Fandom', 'snippet': 'Bongbong Marcos was born in Santa Mesa, Manila, Philippines on September 13, 1957 by Ferdinand Marcos (September 11, 1917 - September 28, 1989) and Imelda ...', 'languages': 'English', 'regions': 'United States'}, {'position': 8, 'title': 'About: Bongbong Marcos', 'snippet': 'About: Bongbong Marcos ; dbp:birthName. Ferdinand Romualdez Marcos Jr. (en) ; dbp:birthPlace. Santa Mesa, Manila, Philippines (en) ; dbp:caption. Official portrait ...', 'languages': 'English', 'regions': 'United States'}, {'position': 9, 'title': 'Bongbong Marcos - Wikidata', 'snippet': 'President of the Philippines since 2022.', 'languages': 'English', 'regions': 'United States'}]\u001b[0m\n",
            "\u001b[92m===== Final response: =====\u001b[0m\n"
          ]
        },
        {
          "output_type": "display_data",
          "data": {
            "text/plain": [
              "<IPython.core.display.Markdown object>"
            ],
            "text/markdown": "The president of the Philippines in 2022 was Bongbong Marcos. He was born in the town of Batac, Ilocos Norte, Philippines."
          },
          "metadata": {}
        }
      ]
    },
    {
      "cell_type": "code",
      "source": [
        "chat.ask(\"What is the weather like where he was born?\")"
      ],
      "metadata": {
        "colab": {
          "base_uri": "https://localhost:8080/",
          "height": 170
        },
        "id": "9XDp8YdxvSlY",
        "outputId": "18b0564b-9590-4431-a3d3-5788afc53497"
      },
      "execution_count": 9,
      "outputs": [
        {
          "output_type": "stream",
          "name": "stdout",
          "text": [
            "\u001b[96mInvoking get_location_data with parameters {'city': 'Batac', 'country': 'Philippines'}\u001b[0m\n",
            "\u001b[97mFunction response: \u001b[0m\u001b[95m[{'name': 'Batac', 'local_names': {'ja': 'バタック'}, 'lat': 18.0555035, 'lon': 120.5645243, 'country': 'PH', 'state': 'Ilocos Norte'}]\u001b[0m\n",
            "\u001b[96mInvoking get_current_weather with parameters {'lat': 18.0555035, 'lon': 120.5645243, 'unit': 'metric'}\u001b[0m\n",
            "\u001b[97mFunction response: \u001b[0m\u001b[95m{'coord': {'lon': 120.5645, 'lat': 18.0555}, 'weather': [{'id': 804, 'main': 'Clouds', 'description': 'overcast clouds', 'icon': '04n'}], 'base': 'stations', 'main': {'temp': 26.13, 'feels_like': 26.13, 'temp_min': 26.13, 'temp_max': 26.13, 'pressure': 1003, 'humidity': 88, 'sea_level': 1003, 'grnd_level': 1001}, 'visibility': 10000, 'wind': {'speed': 6.14, 'deg': 182, 'gust': 9.07}, 'clouds': {'all': 100}, 'dt': 1693762284, 'sys': {'country': 'PH', 'sunrise': 1693777439, 'sunset': 1693822230}, 'timezone': 28800, 'id': 1726339, 'name': 'Batac City', 'cod': 200}\u001b[0m\n",
            "\u001b[92m===== Final response: =====\u001b[0m\n"
          ]
        },
        {
          "output_type": "display_data",
          "data": {
            "text/plain": [
              "<IPython.core.display.Markdown object>"
            ],
            "text/markdown": "The current weather in Batac, Ilocos Norte, Philippines is overcast with a temperature of 26.13°C. The humidity is at 88% with wind speed at 6.14 m/s coming from the south."
          },
          "metadata": {}
        }
      ]
    }
  ]
}