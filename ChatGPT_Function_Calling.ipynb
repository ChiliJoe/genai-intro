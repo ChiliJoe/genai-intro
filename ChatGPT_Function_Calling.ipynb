{
  "nbformat": 4,
  "nbformat_minor": 0,
  "metadata": {
    "colab": {
      "provenance": [],
      "authorship_tag": "ABX9TyPfSH6to/5TrnQixVZD+Lwc",
      "include_colab_link": true
    },
    "kernelspec": {
      "name": "python3",
      "display_name": "Python 3"
    },
    "language_info": {
      "name": "python"
    }
  },
  "cells": [
    {
      "cell_type": "markdown",
      "metadata": {
        "id": "view-in-github",
        "colab_type": "text"
      },
      "source": [
        "<a href=\"https://colab.research.google.com/github/ChiliJoe/genai-intro/blob/main/ChatGPT_Function_Calling.ipynb\" target=\"_parent\"><img src=\"https://colab.research.google.com/assets/colab-badge.svg\" alt=\"Open In Colab\"/></a>"
      ]
    },
    {
      "cell_type": "markdown",
      "source": [
        "This is an expansion of tutorial from https://youtu.be/0-zlUy7VUjg using real-world API from openweathermap.org."
      ],
      "metadata": {
        "id": "mXZhFsq7CBDw"
      }
    },
    {
      "cell_type": "markdown",
      "source": [
        "Let's use the openweathermap current weather API that requires geo code as input."
      ],
      "metadata": {
        "id": "46fME7SwDIzz"
      }
    },
    {
      "cell_type": "code",
      "source": [
        "%%capture\n",
        "# Set openweathermap.org API key\n",
        "%env OWM_API_KEY=\n",
        "\n",
        "# Set OpenAI API key\n",
        "%env OPENAI_API_KEY="
      ],
      "metadata": {
        "id": "20MG98UBGEKq"
      },
      "execution_count": 12,
      "outputs": []
    },
    {
      "cell_type": "code",
      "source": [
        "%%capture\n",
        "!rm -rf helper\n",
        "!git clone https://github.com/ChiliJoe/genai-intro.git helper\n",
        "\n",
        "from helper.weather import function_list"
      ],
      "metadata": {
        "id": "-RlazoYXDYKj"
      },
      "execution_count": 13,
      "outputs": []
    },
    {
      "cell_type": "markdown",
      "source": [
        "# Vanilla OpenAI"
      ],
      "metadata": {
        "id": "mKQ_MPDdbkCk"
      }
    },
    {
      "cell_type": "code",
      "execution_count": 14,
      "metadata": {
        "id": "_g28uDmRB1Fi"
      },
      "outputs": [],
      "source": [
        "%%capture\n",
        "!pip install openai"
      ]
    },
    {
      "cell_type": "code",
      "source": [
        "from IPython.display import display, Markdown\n",
        "from helper.demolib import Color\n",
        "\n",
        "import openai\n",
        "import os\n",
        "import json\n",
        "\n",
        "openai.api_key  = os.getenv('OPENAI_API_KEY')\n",
        "\n",
        "class Chat:\n",
        "  def __init__(self, system_message, function_list):\n",
        "    self.messages = [{\"role\": \"system\", \"content\": system_message}]\n",
        "    self.function_list = function_list\n",
        "    self.function_descriptions = [f[\"description\"] for f in function_list.values()]\n",
        "\n",
        "  def ask(self, role_content, role=\"user\", function_name=None):\n",
        "    if role == \"function\":\n",
        "      self.messages.append({\"role\": role, \"name\": function_name, \"content\": role_content})\n",
        "    else:\n",
        "      self.messages.append({\"role\": role, \"content\": role_content})\n",
        "\n",
        "    res = openai.ChatCompletion.create(\n",
        "        model=\"gpt-3.5-turbo\",\n",
        "        messages=self.messages,\n",
        "        functions=self.function_descriptions,\n",
        "        function_call=\"auto\"\n",
        "    )\n",
        "    ai_message = res.choices[0].message\n",
        "    self.messages.append(ai_message)\n",
        "\n",
        "    # process function call\n",
        "    if ai_message[\"content\"] is None and ai_message[\"function_call\"]:\n",
        "      target_function_name = ai_message[\"function_call\"][\"name\"]\n",
        "      target_function = self.function_list[target_function_name][\"function\"]\n",
        "      func_params = json.loads(ai_message['function_call']['arguments'])\n",
        "\n",
        "      print(Color.cyan(f\"Invoking {target_function_name} with parameters {func_params}\"))\n",
        "      function_response = target_function(**func_params)\n",
        "      print(Color.white(\"Function response: \"), end=\"\")\n",
        "      print(Color.magenta(f\"{function_response}\"))\n",
        "\n",
        "      self.ask(role_content=json.dumps(function_response),\n",
        "               role=\"function\",\n",
        "               function_name=target_function_name\n",
        "               )\n",
        "\n",
        "    elif ai_message[\"content\"]:\n",
        "      print(Color.green(\"===== Final response: =====\"))\n",
        "      display(Markdown(ai_message[\"content\"]))"
      ],
      "metadata": {
        "id": "PYLT4cjKJe3z"
      },
      "execution_count": 15,
      "outputs": []
    },
    {
      "cell_type": "code",
      "source": [
        "sysmessage=\"\"\"\n",
        "You are a helpful AI chatbot that responds in conversational manner.\n",
        "\"\"\"\n",
        "chat = Chat(sysmessage, function_list)"
      ],
      "metadata": {
        "id": "hd5XWK0MnLf3"
      },
      "execution_count": 30,
      "outputs": []
    },
    {
      "cell_type": "code",
      "source": [
        "chat.ask(\"Where does the head of US government live?\")"
      ],
      "metadata": {
        "colab": {
          "base_uri": "https://localhost:8080/",
          "height": 64
        },
        "id": "asZoLcXGnYwe",
        "outputId": "dc805696-2538-4a6d-d8ca-99bceb4a9759"
      },
      "execution_count": 31,
      "outputs": [
        {
          "output_type": "stream",
          "name": "stdout",
          "text": [
            "\u001b[92m===== Final response: =====\u001b[0m\n"
          ]
        },
        {
          "output_type": "display_data",
          "data": {
            "text/plain": [
              "<IPython.core.display.Markdown object>"
            ],
            "text/markdown": "The head of the US government, which is the President, lives in the White House in Washington, D.C."
          },
          "metadata": {}
        }
      ]
    },
    {
      "cell_type": "code",
      "source": [
        "chat.ask(\"What is the weather like there?\")"
      ],
      "metadata": {
        "colab": {
          "base_uri": "https://localhost:8080/",
          "height": 173
        },
        "id": "9XDp8YdxvSlY",
        "outputId": "831a9415-dd65-4493-cd34-a5d246ab5498"
      },
      "execution_count": 32,
      "outputs": [
        {
          "output_type": "stream",
          "name": "stdout",
          "text": [
            "\u001b[96mInvoking get_location_data with parameters {'city': 'Washington', 'country': 'US'}\u001b[0m\n",
            "\u001b[97mFunction response: \u001b[0m\u001b[95m[{'name': 'Washington', 'local_names': {'sg': 'Washington D.C.', 'mn': 'Вашингтон хот', 'zu': 'Washington, D.C.', 'zh': '华盛顿 / 蓽盛頓', 'sw': 'Washington, D.C.', 'vi': 'Hoa Thịnh Đốn', 'cy': 'Washington, D.C.', 'fy': 'Washington, D.C.', 'sh': 'Washington, D.C.', 'cs': 'Washington, D.C.', 'is': 'Washington', 'sq': 'Uashington D.C.', 'ks': 'واشنگٹن', 'mk': 'Вашингтон', 'sn': 'Washington, DC', 'ms': 'Washington, D.C.', 'no': 'Washington, D.C.', 'mr': 'वॉशिंग्टन, डी.सी.', 'gd': 'Washington, D.C.', 'pl': 'Waszyngton', 'ru': 'Вашингтон', 'te': 'వాషింగ్టన్, డి.సి.', 'ko': '워싱턴', 'fr': 'Washington', 'kw': 'Washington, D.C.', 'be': 'Вашынгтон', 'vo': 'Washington', 'hu': 'Washington', 'sm': 'Uasigitone D.C.', 'af': 'Washington, D.C.', 'fa': 'واشنگتن', 'gr': 'Οὐασιντώνη', 'et': 'Washington', 'lv': 'Vašingtona', 'tw': 'Wɔhyeten', 'yi': 'וואשינגטאן די סי', 'ug': 'ۋاشىنگتون', 'ja': 'ワシントン', 'ee': 'Washington D.C.', 'tl': 'Washington, D.C.', 'lt': 'Vašingtonas', 'ne': 'वासिङ्टन, डी.सी.', 'ml': 'വാഷിങ്ടൺ, ഡി.സി.', 'mg': 'Washington D.C.', 'xh': 'Washington, D.C.', 'so': 'Washington D.C', 'si': 'වොෂින්ටන්, ඩී.සී.', 'ca': 'Washington DC', 'kk': 'Вашингтон', 'os': 'Вашингтон', 'sl': 'Washington, D.C.', 'eu': 'Washington', 'ar': 'واشينطون', 'gl': 'Washington, D.C.', 'se': 'Washington D.C.', 'el': 'Ουάσιγκτων', 'bs': 'Washington, D.C.', 'ce': 'Вашингтон', 'ky': 'Вашингтон', 'my': 'ဝါရှင်တန်ဒီစီ', 'nl': 'Washington D.C.', 'th': 'วอชิงตัน', 'ig': 'Washington, D.C.', 'de': 'Washington', 'en': 'Washington', 'mi': 'Wahingitana', 'ie': 'Washington, D.C.', 'lb': 'Washington D.C.', 'li': 'Washington D.C.', 'ny': 'Washington, D.C.', 'am': 'ዋሺንግተን ዲሲ', 'gv': 'Washington, D.C.', 'hy': 'Վաշինգտոն', 'az': 'Vaşinqton şəhəri', 'co': 'Washington DC', 'uz': 'Vashington', 'io': 'Washington D.C.', 'oc': 'Washington, DC', 'gn': 'Washington D. C.', 'hr': 'Washington', 'tk': 'Waşington', 'bm': 'Washington, D.C.', 'ascii': 'Washington', 'pi': 'वासिंगटन डि सि', 'ba': 'Вашингтон', 'tr': 'Vaşington', 'cv': 'Вашингтон', 'la': 'Vasingtonia (D.C.)', 'ha': 'Washington, D.C.', 'ro': 'Washington, D.C.', 'ty': 'Washington', 'da': 'Washington D.C.', 'es': 'Washington', 'nn': 'Washington, D.C.', 'it': 'Washington', 'tn': 'Washington, D.C.', 'pa': 'ਵਾਸ਼ਿੰਗਟਨ, ਡੀ.ਸੀ.', 'fo': 'Washington DC', 'tg': 'Вашингтон (шаҳр)', 'kn': 'ವಾಷಿಂಗ್\\u200cಟನ್', 'uk': 'Вашингтон', 'ur': 'واشنگٹن', 'he': 'וושינגטון', 'tt': 'Вашингтон', 'as': 'ৱাশ্বিংটন ডি.চি.', 'ay': 'Washington, DC', 'pt': 'Washington, D.C.', 'dv': 'ވޮޝިންގޓަން، ޑީ.ސީ.', 'ku': 'Washington', 'bg': 'Вашингтон', 'bh': 'वाशिंगटन, डीसी', 'sr': 'Вашингтон', 'ln': 'Washington', 'fi': 'Washington (DC)', 'eo': 'Vaŝingtono', 'id': 'Washington, D.C.', 'sc': 'Washington', 'ta': 'வாஷிங்டன்', 'rm': 'Washington, D.C.', 'ts': 'Washington, DC', 'ht': 'Wachintòn', 'yo': 'Washington, D.C.', 'an': 'Washington, DC', 'av': 'Вашингтон', 'st': 'Washington, D.C.', 'jv': 'Washington, D.C.', 'qu': 'Washington DC', 'ps': 'واشنګټن', 'ka': 'ვაშინგტონი', 'sd': 'واشنگٽن ڊي سي', 'feature_name': 'Washington', 'hi': 'वॉशिंगटन, डी॰ सी॰', 'sk': 'Washington D.C.', 'ia': 'Washington, D.C.', 'bo': 'ཝ་ཤིན་ཏྲོན།', 'nv': 'Wááshindoon', 'sa': 'वाशिङ्ग्टन् डि सि', 'sv': 'Washington D.C.', 'br': 'Washington D.C.', 'za': 'Washington, D.C.', 'ga': 'Washington, D.C.', 'bn': 'ওয়াশিংটন, ডি.সি.'}, 'lat': 38.8950368, 'lon': -77.0365427, 'country': 'US', 'state': 'District of Columbia'}]\u001b[0m\n",
            "\u001b[96mInvoking get_current_weather with parameters {'lat': 38.8950368, 'lon': -77.0365427, 'unit': 'metric'}\u001b[0m\n",
            "\u001b[97mFunction response: \u001b[0m\u001b[95m{'coord': {'lon': -77.0365, 'lat': 38.895}, 'weather': [{'id': 804, 'main': 'Clouds', 'description': 'overcast clouds', 'icon': '04d'}], 'base': 'stations', 'main': {'temp': 30.18, 'feels_like': 35.48, 'temp_min': 27.74, 'temp_max': 32.51, 'pressure': 1010, 'humidity': 70}, 'visibility': 10000, 'wind': {'speed': 5.66, 'deg': 170}, 'clouds': {'all': 100}, 'dt': 1688320567, 'sys': {'type': 2, 'id': 2002287, 'country': 'US', 'sunrise': 1688291205, 'sunset': 1688344634}, 'timezone': -14400, 'id': 4140963, 'name': 'Washington D.C.', 'cod': 200}\u001b[0m\n",
            "\u001b[92m===== Final response: =====\u001b[0m\n"
          ]
        },
        {
          "output_type": "display_data",
          "data": {
            "text/plain": [
              "<IPython.core.display.Markdown object>"
            ],
            "text/markdown": "The current weather in Washington, D.C. is overcast clouds with a temperature of 30.18°C. It feels like 35.48°C with a humidity of 70%. The minimum temperature is 27.74°C and the maximum temperature is 32.51°C. The wind speed is 5.66 m/s with a direction of 170 degrees."
          },
          "metadata": {}
        }
      ]
    }
  ]
}